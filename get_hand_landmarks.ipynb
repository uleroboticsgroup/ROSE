{
 "cells": [
  {
   "cell_type": "markdown",
   "metadata": {},
   "source": [
    "! pip install opencv-python==4.5.5.64"
   ]
  },
  {
   "cell_type": "code",
   "execution_count": 1,
   "metadata": {},
   "outputs": [
    {
     "name": "stderr",
     "output_type": "stream",
     "text": [
      "Using cache found in C:\\Users\\Virginia Riego/.cache\\torch\\hub\\ultralytics_yolov5_master\n",
      "YOLOv5  2023-1-24 Python-3.7.4 torch-1.9.0+cu102 CPU\n",
      "\n",
      "Fusing layers... \n",
      "YOLOv5s summary: 213 layers, 7225885 parameters, 0 gradients, 16.4 GFLOPs\n",
      "Adding AutoShape... \n"
     ]
    }
   ],
   "source": [
    "import cv2\n",
    "import os\n",
    "import numpy as np\n",
    "import mediapipe as mp\n",
    "import pandas as pd\n",
    "import matplotlib.pyplot as plt\n",
    "from detector import get_info"
   ]
  },
  {
   "cell_type": "code",
   "execution_count": 2,
   "metadata": {},
   "outputs": [],
   "source": [
    "def process_image(user_id,img_name):\n",
    "    info = img_name.split('_')\n",
    "    info_hand = info[2]\n",
    "    user_sex = info[1]\n",
    "    frame = info[3].split('.')[0]\n",
    "    sign = info_hand[-1]\n",
    "    hand =  'Right' if info_hand[0]== 'r' else 'Left'\n",
    "    distance =  'Near' if info_hand[1]== 'n' else 'Far'\n",
    "    \n",
    "    image = cv2.imread(os.path.join('..','images',user_id,img_name))\n",
    "    image = cv2.flip(image, 1) # Mirror image\n",
    "    image = cv2.cvtColor(image, cv2.COLOR_BGR2RGB)\n",
    "    \n",
    "    try:\n",
    "        users = get_info(image)\n",
    "    except Exception as e:\n",
    "        print('Error', img_name, e)\n",
    "        return None\n",
    "    if len(users)==1 and users[0][hand] is not None:\n",
    "        hand_points = users[0][hand]\n",
    "        final = [user_id, user_sex, sign, frame, hand, distance]\n",
    "        final.extend(hand_points)\n",
    "        return final\n",
    "    else:\n",
    "        return None"
   ]
  },
  {
   "cell_type": "code",
   "execution_count": 3,
   "metadata": {},
   "outputs": [],
   "source": [
    "columns = ['user', 'sex', 'sign','frame', 'hand', 'distance']\n",
    "marks_names = ['hand_mark_'+str(i).zfill(2)+axis for i in range(21) for axis in ['x','y','z']]\n",
    "columns.extend(marks_names)\n",
    "\n",
    "f_name= 'results/hand_landmarks.csv'"
   ]
  },
  {
   "cell_type": "code",
   "execution_count": 4,
   "metadata": {},
   "outputs": [
    {
     "data": {
      "text/html": [
       "<div>\n",
       "<style scoped>\n",
       "    .dataframe tbody tr th:only-of-type {\n",
       "        vertical-align: middle;\n",
       "    }\n",
       "\n",
       "    .dataframe tbody tr th {\n",
       "        vertical-align: top;\n",
       "    }\n",
       "\n",
       "    .dataframe thead th {\n",
       "        text-align: right;\n",
       "    }\n",
       "</style>\n",
       "<table border=\"1\" class=\"dataframe\">\n",
       "  <thead>\n",
       "    <tr style=\"text-align: right;\">\n",
       "      <th></th>\n",
       "      <th>name_folder</th>\n",
       "      <th>user_id</th>\n",
       "      <th>sex</th>\n",
       "      <th>train</th>\n",
       "    </tr>\n",
       "  </thead>\n",
       "  <tbody>\n",
       "    <tr>\n",
       "      <th>0</th>\n",
       "      <td>adrian</td>\n",
       "      <td>user01</td>\n",
       "      <td>0</td>\n",
       "      <td>1</td>\n",
       "    </tr>\n",
       "    <tr>\n",
       "      <th>1</th>\n",
       "      <td>alexis</td>\n",
       "      <td>user02</td>\n",
       "      <td>0</td>\n",
       "      <td>1</td>\n",
       "    </tr>\n",
       "    <tr>\n",
       "      <th>2</th>\n",
       "      <td>bea</td>\n",
       "      <td>user03</td>\n",
       "      <td>1</td>\n",
       "      <td>1</td>\n",
       "    </tr>\n",
       "    <tr>\n",
       "      <th>3</th>\n",
       "      <td>camino</td>\n",
       "      <td>user04</td>\n",
       "      <td>1</td>\n",
       "      <td>1</td>\n",
       "    </tr>\n",
       "    <tr>\n",
       "      <th>4</th>\n",
       "      <td>claudia</td>\n",
       "      <td>user05</td>\n",
       "      <td>1</td>\n",
       "      <td>1</td>\n",
       "    </tr>\n",
       "  </tbody>\n",
       "</table>\n",
       "</div>"
      ],
      "text/plain": [
       "  name_folder user_id  sex  train\n",
       "0      adrian  user01    0      1\n",
       "1      alexis  user02    0      1\n",
       "2         bea  user03    1      1\n",
       "3      camino  user04    1      1\n",
       "4     claudia  user05    1      1"
      ]
     },
     "execution_count": 4,
     "metadata": {},
     "output_type": "execute_result"
    }
   ],
   "source": [
    "df_users = pd.read_csv('users.csv')\n",
    "df_users.head()"
   ]
  },
  {
   "cell_type": "code",
   "execution_count": 5,
   "metadata": {},
   "outputs": [
    {
     "name": "stdout",
     "output_type": "stream",
     "text": [
      "user01 580\n",
      "user02 608\n",
      "user03 817\n",
      "user04 533\n",
      "user05 610\n",
      "user06 719\n",
      "user07 563\n",
      "user08 746\n",
      "user09 381\n",
      "user10 908\n",
      "user11 387\n",
      "user12 622\n",
      "user13 675\n",
      "user14 626\n"
     ]
    }
   ],
   "source": [
    "not_detected = []\n",
    "df = pd.DataFrame(columns=columns)\n",
    "df.to_csv(f_name, index=False, mode='w')\n",
    "for index, row in df_users.iterrows():\n",
    "    name_folder = row.name_folder\n",
    "    user_id = row.user_id\n",
    "    user_identifier = int(user_id[4:])\n",
    "    sex = row.sex   \n",
    "        \n",
    "    images = [i for i in os.listdir(os.path.join('..','images',user_id)) if i.endswith('.png')]\n",
    "    cont = 1\n",
    "    \n",
    "    print(user_id, len(images))\n",
    "\n",
    "    for i in images:\n",
    "        info = process_image(user_id,i)\n",
    "        if info is None:\n",
    "            not_detected.append(i)\n",
    "            #print('\\t-', i)\n",
    "        else:\n",
    "            df = pd.DataFrame(dict(zip(columns,info)), index=[cont])\n",
    "            df.to_csv(f_name, index=False, header=False, mode='a')\n",
    "            #print('\\t+', i)\n",
    "        cont+=1\n",
    "with open('results/not_hand_detected.txt', 'w') as fp:\n",
    "    for item in not_detected:\n",
    "        # write each item on a new line\n",
    "        fp.write(\"%s\\n\" % item)"
   ]
  },
  {
   "cell_type": "code",
   "execution_count": null,
   "metadata": {},
   "outputs": [],
   "source": []
  },
  {
   "cell_type": "code",
   "execution_count": null,
   "metadata": {},
   "outputs": [],
   "source": []
  }
 ],
 "metadata": {
  "kernelspec": {
   "display_name": "Python 3",
   "language": "python",
   "name": "python3"
  },
  "language_info": {
   "codemirror_mode": {
    "name": "ipython",
    "version": 3
   },
   "file_extension": ".py",
   "mimetype": "text/x-python",
   "name": "python",
   "nbconvert_exporter": "python",
   "pygments_lexer": "ipython3",
   "version": "3.7.4"
  }
 },
 "nbformat": 4,
 "nbformat_minor": 4
}
