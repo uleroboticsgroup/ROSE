{
 "cells": [
  {
   "cell_type": "code",
   "execution_count": 1,
   "metadata": {},
   "outputs": [
    {
     "name": "stderr",
     "output_type": "stream",
     "text": [
      "Using cache found in C:\\Users\\virgi/.cache\\torch\\hub\\ultralytics_yolov5_master\n",
      "YOLOv5  2023-6-12 Python-3.10.9 torch-2.0.0+cu118 CUDA:0 (NVIDIA GeForce RTX 2060, 6144MiB)\n",
      "\n",
      "Fusing layers... \n",
      "YOLOv5s summary: 213 layers, 7225885 parameters, 0 gradients\n",
      "Adding AutoShape... \n"
     ]
    }
   ],
   "source": [
    "import os\n",
    "import pandas as pd\n",
    "import cv2\n",
    "from detector import get_info\n",
    "import matplotlib.pyplot as plt\n",
    "import tensorflow as tf\n",
    "from tensorflow import keras\n",
    "import numpy as np\n",
    "from sklearn.metrics import confusion_matrix, classification_report, precision_recall_fscore_support\n",
    "import seaborn as sns\n",
    "import matplotlib\n",
    "%matplotlib inline"
   ]
  },
  {
   "cell_type": "code",
   "execution_count": 2,
   "metadata": {},
   "outputs": [
    {
     "data": {
      "text/html": [
       "<div>\n",
       "<style scoped>\n",
       "    .dataframe tbody tr th:only-of-type {\n",
       "        vertical-align: middle;\n",
       "    }\n",
       "\n",
       "    .dataframe tbody tr th {\n",
       "        vertical-align: top;\n",
       "    }\n",
       "\n",
       "    .dataframe thead th {\n",
       "        text-align: right;\n",
       "    }\n",
       "</style>\n",
       "<table border=\"1\" class=\"dataframe\">\n",
       "  <thead>\n",
       "    <tr style=\"text-align: right;\">\n",
       "      <th></th>\n",
       "      <th>user</th>\n",
       "      <th>sex</th>\n",
       "      <th>sign</th>\n",
       "      <th>frame</th>\n",
       "      <th>hand</th>\n",
       "      <th>...</th>\n",
       "      <th>hand_mark_19z</th>\n",
       "      <th>hand_mark_20x</th>\n",
       "      <th>hand_mark_20y</th>\n",
       "      <th>hand_mark_20z</th>\n",
       "      <th>hand_id</th>\n",
       "    </tr>\n",
       "  </thead>\n",
       "  <tbody>\n",
       "    <tr>\n",
       "      <th>0</th>\n",
       "      <td>user01</td>\n",
       "      <td>0</td>\n",
       "      <td>5</td>\n",
       "      <td>4</td>\n",
       "      <td>Right</td>\n",
       "      <td>...</td>\n",
       "      <td>-0.084381</td>\n",
       "      <td>1.000000</td>\n",
       "      <td>0.348559</td>\n",
       "      <td>-0.089569</td>\n",
       "      <td>0</td>\n",
       "    </tr>\n",
       "    <tr>\n",
       "      <th>1</th>\n",
       "      <td>user01</td>\n",
       "      <td>0</td>\n",
       "      <td>5</td>\n",
       "      <td>2</td>\n",
       "      <td>Right</td>\n",
       "      <td>...</td>\n",
       "      <td>-0.070153</td>\n",
       "      <td>1.000000</td>\n",
       "      <td>0.274275</td>\n",
       "      <td>-0.073769</td>\n",
       "      <td>0</td>\n",
       "    </tr>\n",
       "    <tr>\n",
       "      <th>2</th>\n",
       "      <td>user01</td>\n",
       "      <td>0</td>\n",
       "      <td>1</td>\n",
       "      <td>24</td>\n",
       "      <td>Right</td>\n",
       "      <td>...</td>\n",
       "      <td>-0.050475</td>\n",
       "      <td>0.470683</td>\n",
       "      <td>0.976509</td>\n",
       "      <td>-0.042765</td>\n",
       "      <td>0</td>\n",
       "    </tr>\n",
       "    <tr>\n",
       "      <th>3</th>\n",
       "      <td>user01</td>\n",
       "      <td>0</td>\n",
       "      <td>5</td>\n",
       "      <td>3</td>\n",
       "      <td>Right</td>\n",
       "      <td>...</td>\n",
       "      <td>-0.079948</td>\n",
       "      <td>1.000000</td>\n",
       "      <td>0.341380</td>\n",
       "      <td>-0.085815</td>\n",
       "      <td>0</td>\n",
       "    </tr>\n",
       "    <tr>\n",
       "      <th>4</th>\n",
       "      <td>user01</td>\n",
       "      <td>0</td>\n",
       "      <td>1</td>\n",
       "      <td>23</td>\n",
       "      <td>Right</td>\n",
       "      <td>...</td>\n",
       "      <td>-0.052067</td>\n",
       "      <td>0.495761</td>\n",
       "      <td>0.972848</td>\n",
       "      <td>-0.044382</td>\n",
       "      <td>0</td>\n",
       "    </tr>\n",
       "  </tbody>\n",
       "</table>\n",
       "<p>5 rows × 70 columns</p>\n",
       "</div>"
      ],
      "text/plain": [
       "     user  sex  sign  frame   hand  ... hand_mark_19z  hand_mark_20x   \n",
       "0  user01    0     5      4  Right  ...     -0.084381       1.000000  \\\n",
       "1  user01    0     5      2  Right  ...     -0.070153       1.000000   \n",
       "2  user01    0     1     24  Right  ...     -0.050475       0.470683   \n",
       "3  user01    0     5      3  Right  ...     -0.079948       1.000000   \n",
       "4  user01    0     1     23  Right  ...     -0.052067       0.495761   \n",
       "\n",
       "   hand_mark_20y  hand_mark_20z  hand_id  \n",
       "0       0.348559      -0.089569        0  \n",
       "1       0.274275      -0.073769        0  \n",
       "2       0.976509      -0.042765        0  \n",
       "3       0.341380      -0.085815        0  \n",
       "4       0.972848      -0.044382        0  \n",
       "\n",
       "[5 rows x 70 columns]"
      ]
     },
     "execution_count": 2,
     "metadata": {},
     "output_type": "execute_result"
    }
   ],
   "source": [
    "marks_names = ['hand_mark_'+str(i).zfill(2)+axis for i in range(21) for axis in ['x','y','z']]\n",
    "train_labels = marks_names + ['hand_id']\n",
    "\n",
    "users = pd.read_csv('users.csv')\n",
    "train_ids = users[users['train']==1]['user_id'].values\n",
    "\n",
    "f_name= 'results/hand_landmarks.csv'\n",
    "data = pd.read_csv(f_name)\n",
    "data['hand_id'] = np.where(data['hand']=='Left', 1, 0)\n",
    "data.head()"
   ]
  },
  {
   "cell_type": "code",
   "execution_count": 3,
   "metadata": {},
   "outputs": [],
   "source": [
    "def get_data(labels):  \n",
    "\n",
    "    train_data = data[data['user'].isin(train_ids)]\n",
    "    test_data = data[~data['user'].isin(train_ids)]\n",
    "\n",
    "    X_train = train_data[labels].values\n",
    "    X_test = test_data[labels].values\n",
    "\n",
    "    y_train = train_data['sign'].values -1\n",
    "    y_test = test_data['sign'].values -1\n",
    "    \n",
    "    return X_train, X_test, y_train, y_test\n"
   ]
  },
  {
   "cell_type": "code",
   "execution_count": 4,
   "metadata": {},
   "outputs": [],
   "source": [
    "model_data = pd.read_csv('results/classifier_results.csv')\n",
    "#model_data.sort_values(by='val_accuracy')"
   ]
  },
  {
   "cell_type": "code",
   "execution_count": 5,
   "metadata": {},
   "outputs": [],
   "source": [
    "model_data['precision'] = 0\n",
    "model_data['recall'] = 0\n",
    "model_data['val_precision'] = 0\n",
    "model_data['val_recall'] = 0"
   ]
  },
  {
   "cell_type": "code",
   "execution_count": 6,
   "metadata": {},
   "outputs": [
    {
     "name": "stdout",
     "output_type": "stream",
     "text": [
      "model_small_without_hand\n",
      "model_small_with_hand\n",
      "model_big_without_hand\n",
      "model_big_with_hand\n"
     ]
    }
   ],
   "source": [
    "for index, row in model_data.iterrows():\n",
    "    print(row['name'])\n",
    "    \n",
    "    model_folder = 'results/models/'+row['name']\n",
    "    model_r = tf.keras.models.load_model(model_folder)\n",
    "    \n",
    "    if row['name'].endswith('with_hand'):\n",
    "        labels = marks_names + ['hand_id']\n",
    "    else:\n",
    "        labels = marks_names\n",
    "                \n",
    "    \n",
    "    X_train, X_test, y_train, y_test = get_data(labels)\n",
    "\n",
    "    pred_train = model_r.predict(X_train, verbose= False)\n",
    "    y_pred = pred_train.argmax(axis=1)\n",
    "    report = classification_report(y_train, y_pred, output_dict=True, labels= range(7))\n",
    "    model_data.at[index, 'accuracy'] = report['accuracy']\n",
    "    precision, recall, _ ,_ = precision_recall_fscore_support(y_train, y_pred)\n",
    "    model_data.at[index,'precision'] = report['macro avg']['precision']\n",
    "    model_data.at[index,'recall'] = report['macro avg']['recall']\n",
    "    \n",
    "    pred_test = model_r.predict(X_test, verbose= False)\n",
    "    y_pred = pred_test.argmax(axis=1)\n",
    "    report = classification_report(y_test, y_pred, output_dict=True, labels= range(7))\n",
    "    model_data.at[index, 'val_accuracy'] = report['accuracy']\n",
    "    model_data.at[index,'val_precision'] = report['macro avg']['precision']\n",
    "    model_data.at[index,'val_recall'] = report['macro avg']['recall']\n"
   ]
  },
  {
   "cell_type": "code",
   "execution_count": 7,
   "metadata": {},
   "outputs": [
    {
     "data": {
      "text/plain": [
       "array([    0.93699,      0.9306,     0.98953,     0.97037,     0.98765,     0.99439,     0.98375])"
      ]
     },
     "execution_count": 7,
     "metadata": {},
     "output_type": "execute_result"
    }
   ],
   "source": [
    "precision"
   ]
  },
  {
   "cell_type": "code",
   "execution_count": 8,
   "metadata": {},
   "outputs": [],
   "source": [
    "model_data['inference_time'] = model_data['inference_time']*1000 #(ms)\n",
    "model_data['inference_time'] = model_data['inference_time'].round(decimals=2)\n",
    "model_data['accuracy'] = model_data['accuracy'].round(decimals =4)\n",
    "model_data['val_accuracy'] = model_data['val_accuracy'].round(decimals =4)\n",
    "model_data['precision'] = model_data['precision'].round(decimals =4)\n",
    "model_data['val_precision'] = model_data['val_precision'].round(decimals =4)\n",
    "model_data['recall'] = model_data['recall'].round(decimals =4)\n",
    "model_data['val_recall'] = model_data['val_recall'].round(decimals =4)"
   ]
  },
  {
   "cell_type": "code",
   "execution_count": 9,
   "metadata": {},
   "outputs": [
    {
     "data": {
      "text/html": [
       "<div>\n",
       "<style scoped>\n",
       "    .dataframe tbody tr th:only-of-type {\n",
       "        vertical-align: middle;\n",
       "    }\n",
       "\n",
       "    .dataframe tbody tr th {\n",
       "        vertical-align: top;\n",
       "    }\n",
       "\n",
       "    .dataframe thead th {\n",
       "        text-align: right;\n",
       "    }\n",
       "</style>\n",
       "<table border=\"1\" class=\"dataframe\">\n",
       "  <thead>\n",
       "    <tr style=\"text-align: right;\">\n",
       "      <th></th>\n",
       "      <th>Unnamed: 0</th>\n",
       "      <th>name</th>\n",
       "      <th>hand</th>\n",
       "      <th>unknown</th>\n",
       "      <th>size</th>\n",
       "      <th>...</th>\n",
       "      <th>inference_time</th>\n",
       "      <th>precision</th>\n",
       "      <th>recall</th>\n",
       "      <th>val_precision</th>\n",
       "      <th>val_recall</th>\n",
       "    </tr>\n",
       "  </thead>\n",
       "  <tbody>\n",
       "    <tr>\n",
       "      <th>0</th>\n",
       "      <td>0</td>\n",
       "      <td>model_small_without_hand</td>\n",
       "      <td>False</td>\n",
       "      <td>False</td>\n",
       "      <td>small</td>\n",
       "      <td>...</td>\n",
       "      <td>31.29</td>\n",
       "      <td>0.9673</td>\n",
       "      <td>0.9689</td>\n",
       "      <td>0.9200</td>\n",
       "      <td>0.9250</td>\n",
       "    </tr>\n",
       "    <tr>\n",
       "      <th>1</th>\n",
       "      <td>1</td>\n",
       "      <td>model_small_with_hand</td>\n",
       "      <td>True</td>\n",
       "      <td>False</td>\n",
       "      <td>small</td>\n",
       "      <td>...</td>\n",
       "      <td>31.29</td>\n",
       "      <td>0.9628</td>\n",
       "      <td>0.9643</td>\n",
       "      <td>0.9242</td>\n",
       "      <td>0.9272</td>\n",
       "    </tr>\n",
       "    <tr>\n",
       "      <th>2</th>\n",
       "      <td>2</td>\n",
       "      <td>model_big_without_hand</td>\n",
       "      <td>False</td>\n",
       "      <td>False</td>\n",
       "      <td>big</td>\n",
       "      <td>...</td>\n",
       "      <td>31.29</td>\n",
       "      <td>0.9711</td>\n",
       "      <td>0.9730</td>\n",
       "      <td>0.9305</td>\n",
       "      <td>0.9317</td>\n",
       "    </tr>\n",
       "    <tr>\n",
       "      <th>3</th>\n",
       "      <td>3</td>\n",
       "      <td>model_big_with_hand</td>\n",
       "      <td>True</td>\n",
       "      <td>False</td>\n",
       "      <td>big</td>\n",
       "      <td>...</td>\n",
       "      <td>31.28</td>\n",
       "      <td>0.9705</td>\n",
       "      <td>0.9742</td>\n",
       "      <td>0.9218</td>\n",
       "      <td>0.9300</td>\n",
       "    </tr>\n",
       "  </tbody>\n",
       "</table>\n",
       "<p>4 rows × 13 columns</p>\n",
       "</div>"
      ],
      "text/plain": [
       "   Unnamed: 0                      name   hand  unknown   size  ...   \n",
       "0           0  model_small_without_hand  False    False  small  ...  \\\n",
       "1           1     model_small_with_hand   True    False  small  ...   \n",
       "2           2    model_big_without_hand  False    False    big  ...   \n",
       "3           3       model_big_with_hand   True    False    big  ...   \n",
       "\n",
       "   inference_time  precision  recall  val_precision  val_recall  \n",
       "0           31.29     0.9673  0.9689         0.9200      0.9250  \n",
       "1           31.29     0.9628  0.9643         0.9242      0.9272  \n",
       "2           31.29     0.9711  0.9730         0.9305      0.9317  \n",
       "3           31.28     0.9705  0.9742         0.9218      0.9300  \n",
       "\n",
       "[4 rows x 13 columns]"
      ]
     },
     "execution_count": 9,
     "metadata": {},
     "output_type": "execute_result"
    }
   ],
   "source": [
    "model_data.head()"
   ]
  },
  {
   "cell_type": "code",
   "execution_count": 10,
   "metadata": {},
   "outputs": [],
   "source": [
    "model_data.to_csv('results/classifier_results2.csv',index=False)"
   ]
  },
  {
   "cell_type": "code",
   "execution_count": null,
   "metadata": {},
   "outputs": [],
   "source": []
  }
 ],
 "metadata": {
  "kernelspec": {
   "display_name": "Python 3 (ipykernel)",
   "language": "python",
   "name": "python3"
  },
  "language_info": {
   "codemirror_mode": {
    "name": "ipython",
    "version": 3
   },
   "file_extension": ".py",
   "mimetype": "text/x-python",
   "name": "python",
   "nbconvert_exporter": "python",
   "pygments_lexer": "ipython3",
   "version": "3.10.9"
  }
 },
 "nbformat": 4,
 "nbformat_minor": 4
}
