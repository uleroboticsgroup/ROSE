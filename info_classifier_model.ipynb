{
 "cells": [
  {
   "cell_type": "code",
   "execution_count": 1,
   "metadata": {},
   "outputs": [
    {
     "name": "stderr",
     "output_type": "stream",
     "text": [
      "Using cache found in C:\\Users\\virgi/.cache\\torch\\hub\\ultralytics_yolov5_master\n",
      "\u001b[31m\u001b[1mrequirements:\u001b[0m pandas>=1.1.4 not found and is required by YOLOv5, attempting auto-update...\n",
      "\u001b[31m\u001b[1mrequirements:\u001b[0m Command 'pip install 'pandas>=1.1.4' ' returned non-zero exit status 1.\n",
      "YOLOv5  2022-5-16 Python-3.7.8 torch-1.8.1+cu102 CUDA:0 (NVIDIA GeForce RTX 2060, 6144MiB)\n",
      "\n",
      "Fusing layers... \n",
      "YOLOv5s summary: 213 layers, 7225885 parameters, 0 gradients\n",
      "Adding AutoShape... \n"
     ]
    }
   ],
   "source": [
    "import os\n",
    "import pandas as pd\n",
    "import cv2\n",
    "from detector import get_info\n",
    "import matplotlib.pyplot as plt\n",
    "import tensorflow as tf\n",
    "import numpy as np\n",
    "from sklearn.metrics import confusion_matrix\n",
    "import seaborn as sns\n",
    "import matplotlib\n",
    "%matplotlib inline"
   ]
  },
  {
   "cell_type": "code",
   "execution_count": 2,
   "metadata": {},
   "outputs": [],
   "source": [
    "model_folder = 'results/models/model_big_with_hand'\n",
    "model = tf.keras.models.load_model(model_folder)"
   ]
  },
  {
   "cell_type": "code",
   "execution_count": 3,
   "metadata": {},
   "outputs": [
    {
     "data": {
      "text/html": [
       "<div>\n",
       "<style scoped>\n",
       "    .dataframe tbody tr th:only-of-type {\n",
       "        vertical-align: middle;\n",
       "    }\n",
       "\n",
       "    .dataframe tbody tr th {\n",
       "        vertical-align: top;\n",
       "    }\n",
       "\n",
       "    .dataframe thead th {\n",
       "        text-align: right;\n",
       "    }\n",
       "</style>\n",
       "<table border=\"1\" class=\"dataframe\">\n",
       "  <thead>\n",
       "    <tr style=\"text-align: right;\">\n",
       "      <th></th>\n",
       "      <th>user</th>\n",
       "      <th>sex</th>\n",
       "      <th>sign</th>\n",
       "      <th>frame</th>\n",
       "      <th>hand</th>\n",
       "      <th>...</th>\n",
       "      <th>hand_mark_19z</th>\n",
       "      <th>hand_mark_20x</th>\n",
       "      <th>hand_mark_20y</th>\n",
       "      <th>hand_mark_20z</th>\n",
       "      <th>hand_id</th>\n",
       "    </tr>\n",
       "  </thead>\n",
       "  <tbody>\n",
       "    <tr>\n",
       "      <th>0</th>\n",
       "      <td>user01</td>\n",
       "      <td>0</td>\n",
       "      <td>5</td>\n",
       "      <td>4</td>\n",
       "      <td>Right</td>\n",
       "      <td>...</td>\n",
       "      <td>-0.084381</td>\n",
       "      <td>1.000000</td>\n",
       "      <td>0.348559</td>\n",
       "      <td>-0.089569</td>\n",
       "      <td>0</td>\n",
       "    </tr>\n",
       "    <tr>\n",
       "      <th>1</th>\n",
       "      <td>user01</td>\n",
       "      <td>0</td>\n",
       "      <td>5</td>\n",
       "      <td>2</td>\n",
       "      <td>Right</td>\n",
       "      <td>...</td>\n",
       "      <td>-0.070153</td>\n",
       "      <td>1.000000</td>\n",
       "      <td>0.274275</td>\n",
       "      <td>-0.073769</td>\n",
       "      <td>0</td>\n",
       "    </tr>\n",
       "    <tr>\n",
       "      <th>2</th>\n",
       "      <td>user01</td>\n",
       "      <td>0</td>\n",
       "      <td>1</td>\n",
       "      <td>24</td>\n",
       "      <td>Right</td>\n",
       "      <td>...</td>\n",
       "      <td>-0.050475</td>\n",
       "      <td>0.470683</td>\n",
       "      <td>0.976509</td>\n",
       "      <td>-0.042765</td>\n",
       "      <td>0</td>\n",
       "    </tr>\n",
       "    <tr>\n",
       "      <th>3</th>\n",
       "      <td>user01</td>\n",
       "      <td>0</td>\n",
       "      <td>5</td>\n",
       "      <td>3</td>\n",
       "      <td>Right</td>\n",
       "      <td>...</td>\n",
       "      <td>-0.079948</td>\n",
       "      <td>1.000000</td>\n",
       "      <td>0.341380</td>\n",
       "      <td>-0.085815</td>\n",
       "      <td>0</td>\n",
       "    </tr>\n",
       "    <tr>\n",
       "      <th>4</th>\n",
       "      <td>user01</td>\n",
       "      <td>0</td>\n",
       "      <td>1</td>\n",
       "      <td>23</td>\n",
       "      <td>Right</td>\n",
       "      <td>...</td>\n",
       "      <td>-0.052067</td>\n",
       "      <td>0.495761</td>\n",
       "      <td>0.972848</td>\n",
       "      <td>-0.044382</td>\n",
       "      <td>0</td>\n",
       "    </tr>\n",
       "  </tbody>\n",
       "</table>\n",
       "<p>5 rows × 70 columns</p>\n",
       "</div>"
      ],
      "text/plain": [
       "     user  sex  sign  frame   hand  ... hand_mark_19z  hand_mark_20x  \\\n",
       "0  user01    0     5      4  Right  ...     -0.084381       1.000000   \n",
       "1  user01    0     5      2  Right  ...     -0.070153       1.000000   \n",
       "2  user01    0     1     24  Right  ...     -0.050475       0.470683   \n",
       "3  user01    0     5      3  Right  ...     -0.079948       1.000000   \n",
       "4  user01    0     1     23  Right  ...     -0.052067       0.495761   \n",
       "\n",
       "   hand_mark_20y  hand_mark_20z  hand_id  \n",
       "0       0.348559      -0.089569        0  \n",
       "1       0.274275      -0.073769        0  \n",
       "2       0.976509      -0.042765        0  \n",
       "3       0.341380      -0.085815        0  \n",
       "4       0.972848      -0.044382        0  \n",
       "\n",
       "[5 rows x 70 columns]"
      ]
     },
     "execution_count": 3,
     "metadata": {},
     "output_type": "execute_result"
    }
   ],
   "source": [
    "marks_names = ['hand_mark_'+str(i).zfill(2)+axis for i in range(21) for axis in ['x','y','z']]\n",
    "train_labels = marks_names + ['hand_id']\n",
    "\n",
    "users = pd.read_csv('users.csv')\n",
    "train_ids = users[users['train']==1]['user_id'].values\n",
    "\n",
    "f_name= 'results/hand_landmarks.csv'\n",
    "data = pd.read_csv(f_name)\n",
    "data['hand_id'] = np.where(data['hand']=='Left', 1, 0)\n",
    "data.head()"
   ]
  },
  {
   "cell_type": "code",
   "execution_count": 4,
   "metadata": {},
   "outputs": [],
   "source": [
    "def get_data(labels):  \n",
    "\n",
    "    train_data = data[data['user'].isin(train_ids)]\n",
    "    test_data = data[~data['user'].isin(train_ids)]\n",
    "\n",
    "    X_train = train_data[labels].values\n",
    "    X_test = test_data[labels].values\n",
    "\n",
    "    y_train = train_data['sign'].values -1\n",
    "    y_test = test_data['sign'].values -1\n",
    "    \n",
    "    return X_train, X_test, y_train, y_test\n",
    "\n",
    "def get_model(input_size, output_size):\n",
    "    model = keras.Sequential(\n",
    "        [\n",
    "            keras.Input(shape=(input_size,)),\n",
    "            #layers.Dropout(0.1),\n",
    "            layers.Dense(21, activation=\"relu\"),\n",
    "            #layers.Dropout(0.1),\n",
    "            layers.Dense(10, activation=\"relu\"),\n",
    "            layers.Dense(output_size, activation='softmax'),\n",
    "        ]\n",
    "    )\n",
    "    return model"
   ]
  },
  {
   "cell_type": "code",
   "execution_count": 5,
   "metadata": {},
   "outputs": [],
   "source": [
    "X_train, X_test, y_train, y_test = get_data(marks_names + ['hand_id'])"
   ]
  },
  {
   "cell_type": "code",
   "execution_count": 6,
   "metadata": {},
   "outputs": [],
   "source": [
    "predictions = model.predict(X_train, verbose=False)\n",
    "y_pred_train = predictions.argmax(axis=-1)\n",
    "\n",
    "predictions = model.predict(X_test, verbose=False)\n",
    "y_pred_test = predictions.argmax(axis=-1)"
   ]
  },
  {
   "cell_type": "code",
   "execution_count": 7,
   "metadata": {},
   "outputs": [],
   "source": [
    "train_matrix = confusion_matrix(y_train, y_pred_train)\n",
    "test_matrix = confusion_matrix(y_test, y_pred_test)"
   ]
  },
  {
   "cell_type": "code",
   "execution_count": 8,
   "metadata": {},
   "outputs": [
    {
     "data": {
      "image/png": "[encoded data removed]",
      "text/plain": [
       "<Figure size 1008x432 with 4 Axes>"
      ]
     },
     "metadata": {
      "needs_background": "light"
     },
     "output_type": "display_data"
    }
   ],
   "source": [
    "labels = ['Sign '+str(i) for i in range(1,8)]\n",
    "\n",
    "fig, ax = plt.subplots(1,2,figsize=(14, 6))\n",
    "\n",
    "sns.heatmap(train_matrix, annot=True, cmap=\"YlOrBr\", square=True, ax=ax[0], xticklabels=labels, yticklabels=labels, fmt='g')\n",
    "ax[0].set_yticklabels(labels, rotation=0)\n",
    "ax[0].set_xticklabels(labels, rotation=45)\n",
    "ax[0].set_ylabel('Real category')\n",
    "ax[0].set_xlabel('Predicted category')\n",
    "ax[0].set_title('Train data')\n",
    "sns.heatmap(test_matrix, annot=True, cmap=\"YlOrBr\", square=True, ax=ax[1], xticklabels=labels, yticklabels=labels, fmt='g')\n",
    "ax[1].set_yticklabels(labels, rotation=0)\n",
    "ax[1].set_xticklabels(labels, rotation=45)\n",
    "ax[1].set_ylabel('Real category')\n",
    "ax[1].set_xlabel('Predicted category')\n",
    "ax[1].set_title('Test data')\n",
    "plt.show()"
   ]
  },
  {
   "cell_type": "code",
   "execution_count": 9,
   "metadata": {},
   "outputs": [],
   "source": [
    "# train with class_weight"
   ]
  }
 ],
 "metadata": {
  "kernelspec": {
   "display_name": "Python 3",
   "language": "python",
   "name": "python3"
  },
  "language_info": {
   "codemirror_mode": {
    "name": "ipython",
    "version": 3
   },
   "file_extension": ".py",
   "mimetype": "text/x-python",
   "name": "python",
   "nbconvert_exporter": "python",
   "pygments_lexer": "ipython3",
   "version": "3.7.8"
  }
 },
 "nbformat": 4,
 "nbformat_minor": 4
}
